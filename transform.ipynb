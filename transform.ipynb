{
 "cells": [
  {
   "cell_type": "code",
   "execution_count": 1,
   "metadata": {},
   "outputs": [
    {
     "name": "stderr",
     "output_type": "stream",
     "text": [
      "Using backend: pytorch\n",
      "Other supported backends: tensorflow.compat.v1, tensorflow, jax, paddle.\n",
      "paddle supports more examples now and is recommended.\n"
     ]
    },
    {
     "ename": "RuntimeError",
     "evalue": "Failed to import openseespy on Windows.",
     "output_type": "error",
     "traceback": [
      "\u001b[1;31m---------------------------------------------------------------------------\u001b[0m",
      "\u001b[1;31mRuntimeError\u001b[0m                              Traceback (most recent call last)",
      "File \u001b[1;32mc:\\Users\\aglor\\anaconda3\\envs\\ML\\Lib\\site-packages\\openseespy\\opensees\\__init__.py:19\u001b[0m\n\u001b[0;32m     18\u001b[0m \u001b[39mtry\u001b[39;00m:\n\u001b[1;32m---> 19\u001b[0m     \u001b[39mfrom\u001b[39;00m \u001b[39mopenseespywin\u001b[39;00m\u001b[39m.\u001b[39;00m\u001b[39mopensees\u001b[39;00m \u001b[39mimport\u001b[39;00m \u001b[39m*\u001b[39m\n\u001b[0;32m     21\u001b[0m \u001b[39mexcept\u001b[39;00m:\n",
      "File \u001b[1;32mc:\\Users\\aglor\\anaconda3\\envs\\ML\\Lib\\site-packages\\openseespywin\\__init__.py:25\u001b[0m\n\u001b[0;32m     24\u001b[0m     \u001b[39melse\u001b[39;00m:\n\u001b[1;32m---> 25\u001b[0m         \u001b[39mraise\u001b[39;00m \u001b[39mRuntimeError\u001b[39;00m(\n\u001b[0;32m     26\u001b[0m             \u001b[39m'\u001b[39m\u001b[39mPython version 3.8 is needed for Windows\u001b[39m\u001b[39m'\u001b[39m)\n\u001b[0;32m     28\u001b[0m \u001b[39melse\u001b[39;00m:\n",
      "\u001b[1;31mRuntimeError\u001b[0m: Python version 3.8 is needed for Windows",
      "\nDuring handling of the above exception, another exception occurred:\n",
      "\u001b[1;31mRuntimeError\u001b[0m                              Traceback (most recent call last)",
      "Cell \u001b[1;32mIn[1], line 5\u001b[0m\n\u001b[0;32m      3\u001b[0m \u001b[39mimport\u001b[39;00m \u001b[39mdeepxde\u001b[39;00m \u001b[39mas\u001b[39;00m \u001b[39mdde\u001b[39;00m\n\u001b[0;32m      4\u001b[0m \u001b[39mimport\u001b[39;00m \u001b[39mtorch\u001b[39;00m\n\u001b[1;32m----> 5\u001b[0m \u001b[39mimport\u001b[39;00m \u001b[39mutils\u001b[39;00m\n",
      "File \u001b[1;32mc:\\Projects\\pinn\\utils\\__init__.py:1\u001b[0m\n\u001b[1;32m----> 1\u001b[0m \u001b[39mfrom\u001b[39;00m \u001b[39m.\u001b[39;00m\u001b[39mdata\u001b[39;00m \u001b[39mimport\u001b[39;00m get_data, ops_data\n",
      "File \u001b[1;32mc:\\Projects\\pinn\\utils\\data.py:1\u001b[0m\n\u001b[1;32m----> 1\u001b[0m \u001b[39mimport\u001b[39;00m \u001b[39mopenseespy\u001b[39;00m\u001b[39m.\u001b[39;00m\u001b[39mopensees\u001b[39;00m \u001b[39mas\u001b[39;00m \u001b[39mops\u001b[39;00m\n\u001b[0;32m      2\u001b[0m \u001b[39mimport\u001b[39;00m \u001b[39mos\u001b[39;00m \u001b[39mas\u001b[39;00m \u001b[39mos\u001b[39;00m\n\u001b[0;32m      3\u001b[0m \u001b[39mimport\u001b[39;00m \u001b[39mnumpy\u001b[39;00m \u001b[39mas\u001b[39;00m \u001b[39mnp\u001b[39;00m\n",
      "File \u001b[1;32mc:\\Users\\aglor\\anaconda3\\envs\\ML\\Lib\\site-packages\\openseespy\\opensees\\__init__.py:22\u001b[0m\n\u001b[0;32m     19\u001b[0m         \u001b[39mfrom\u001b[39;00m \u001b[39mopenseespywin\u001b[39;00m\u001b[39m.\u001b[39;00m\u001b[39mopensees\u001b[39;00m \u001b[39mimport\u001b[39;00m \u001b[39m*\u001b[39m\n\u001b[0;32m     21\u001b[0m     \u001b[39mexcept\u001b[39;00m:\n\u001b[1;32m---> 22\u001b[0m         \u001b[39mraise\u001b[39;00m \u001b[39mRuntimeError\u001b[39;00m(\u001b[39m'\u001b[39m\u001b[39mFailed to import openseespy on Windows.\u001b[39m\u001b[39m'\u001b[39m)\n\u001b[0;32m     24\u001b[0m \u001b[39melif\u001b[39;00m sys\u001b[39m.\u001b[39mplatform\u001b[39m.\u001b[39mstartswith(\u001b[39m'\u001b[39m\u001b[39mdarwin\u001b[39m\u001b[39m'\u001b[39m):\n\u001b[0;32m     26\u001b[0m     \u001b[39mtry\u001b[39;00m:\n",
      "\u001b[1;31mRuntimeError\u001b[0m: Failed to import openseespy on Windows."
     ]
    }
   ],
   "source": [
    "import numpy as np\n",
    "import matplotlib.pyplot as plt\n",
    "import deepxde as dde\n",
    "import torch\n",
    "import utils"
   ]
  },
  {
   "cell_type": "code",
   "execution_count": null,
   "metadata": {},
   "outputs": [],
   "source": []
  }
 ],
 "metadata": {
  "kernelspec": {
   "display_name": "ML",
   "language": "python",
   "name": "python3"
  },
  "language_info": {
   "codemirror_mode": {
    "name": "ipython",
    "version": 3
   },
   "file_extension": ".py",
   "mimetype": "text/x-python",
   "name": "python",
   "nbconvert_exporter": "python",
   "pygments_lexer": "ipython3",
   "version": "3.11.3"
  },
  "orig_nbformat": 4
 },
 "nbformat": 4,
 "nbformat_minor": 2
}
