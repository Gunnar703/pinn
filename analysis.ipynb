{
 "cells": [
  {
   "cell_type": "code",
   "execution_count": 1,
   "metadata": {},
   "outputs": [],
   "source": [
    "import torch\n",
    "import numpy as np\n",
    "import matplotlib.pyplot as plt\n",
    "from model import PINN\n",
    "import os\n",
    "import argparse\n",
    "\n",
    "torch.manual_seed(123)\n",
    "\n",
    "plot_every = 100\n",
    "parser = argparse.ArgumentParser()\n",
    "parser.add_argument(\"--plot-every\")\n",
    "args = parser.parse_args()\n",
    "plot_every = int(args.plot_every)\n",
    "\n",
    "image_list = os.listdir(\"plots\")\n",
    "if image_list:\n",
    "    [os.unlink(os.path.join(\"plots\", image)) for image in image_list]"
   ]
  },
  {
   "cell_type": "code",
   "execution_count": 2,
   "metadata": {},
   "outputs": [
    {
     "name": "stdout",
     "output_type": "stream",
     "text": [
      "Epoch 0: Physics Loss 1.664, Node3YVel Loss 502.5, Node4YVel Loss 2612, E = 0.8441\n"
     ]
    },
    {
     "ename": "KeyboardInterrupt",
     "evalue": "",
     "output_type": "error",
     "traceback": [
      "\u001b[1;31m---------------------------------------------------------------------------\u001b[0m",
      "\u001b[1;31mKeyboardInterrupt\u001b[0m                         Traceback (most recent call last)",
      "Cell \u001b[1;32mIn[2], line 61\u001b[0m\n\u001b[0;32m     55\u001b[0m model\u001b[39m.\u001b[39mload_ops_data()\n\u001b[0;32m     56\u001b[0m model\u001b[39m.\u001b[39mcompile(\n\u001b[0;32m     57\u001b[0m     torch\u001b[39m.\u001b[39moptim\u001b[39m.\u001b[39mAdam(\u001b[39mlist\u001b[39m(model\u001b[39m.\u001b[39mparameters()) \u001b[39m+\u001b[39m [model\u001b[39m.\u001b[39ma], lr\u001b[39m=\u001b[39m\u001b[39m1e-4\u001b[39m),\n\u001b[0;32m     58\u001b[0m     callbacks\u001b[39m=\u001b[39m[epoch_logger, plotter],\n\u001b[0;32m     59\u001b[0m     loss_weights\u001b[39m=\u001b[39m[\u001b[39m1e-10\u001b[39m, \u001b[39m1\u001b[39m, \u001b[39m1\u001b[39m],\n\u001b[0;32m     60\u001b[0m )\n\u001b[1;32m---> 61\u001b[0m model\u001b[39m.\u001b[39mtrain(iterations\u001b[39m=\u001b[39m\u001b[39mint\u001b[39m(\u001b[39m2e6\u001b[39m))\n",
      "File \u001b[1;32mc:\\Projects\\pinn\\model.py:279\u001b[0m, in \u001b[0;36mPINN.train\u001b[1;34m(self, iterations)\u001b[0m\n\u001b[0;32m    272\u001b[0m loss \u001b[39m=\u001b[39m \u001b[39msum\u001b[39m(weighted_losses)\n\u001b[0;32m    273\u001b[0m \u001b[39m# loss = (\u001b[39;00m\n\u001b[0;32m    274\u001b[0m \u001b[39m#     self.loss_weights[0] * physics_loss\u001b[39;00m\n\u001b[0;32m    275\u001b[0m \u001b[39m#     # + self.loss_weights[1] * aphysical_loss\u001b[39;00m\n\u001b[0;32m    276\u001b[0m \u001b[39m#     + self.loss_weights[2] * data_loss1\u001b[39;00m\n\u001b[0;32m    277\u001b[0m \u001b[39m#     + self.loss_weights[3] * data_loss2\u001b[39;00m\n\u001b[0;32m    278\u001b[0m \u001b[39m# )\u001b[39;00m\n\u001b[1;32m--> 279\u001b[0m loss\u001b[39m.\u001b[39mbackward()\n\u001b[0;32m    281\u001b[0m \u001b[39mfor\u001b[39;00m callback \u001b[39min\u001b[39;00m \u001b[39mself\u001b[39m\u001b[39m.\u001b[39mcallbacks:\n\u001b[0;32m    282\u001b[0m     callback(\n\u001b[0;32m    283\u001b[0m         model\u001b[39m=\u001b[39m\u001b[39mself\u001b[39m,\n\u001b[0;32m    284\u001b[0m         epoch\u001b[39m=\u001b[39mepoch,\n\u001b[1;32m   (...)\u001b[0m\n\u001b[0;32m    288\u001b[0m         data_t\u001b[39m=\u001b[39mdata_t,\n\u001b[0;32m    289\u001b[0m     )\n",
      "File \u001b[1;32mc:\\Users\\aglor\\anaconda3\\envs\\ML\\Lib\\site-packages\\torch\\_tensor.py:487\u001b[0m, in \u001b[0;36mTensor.backward\u001b[1;34m(self, gradient, retain_graph, create_graph, inputs)\u001b[0m\n\u001b[0;32m    477\u001b[0m \u001b[39mif\u001b[39;00m has_torch_function_unary(\u001b[39mself\u001b[39m):\n\u001b[0;32m    478\u001b[0m     \u001b[39mreturn\u001b[39;00m handle_torch_function(\n\u001b[0;32m    479\u001b[0m         Tensor\u001b[39m.\u001b[39mbackward,\n\u001b[0;32m    480\u001b[0m         (\u001b[39mself\u001b[39m,),\n\u001b[1;32m   (...)\u001b[0m\n\u001b[0;32m    485\u001b[0m         inputs\u001b[39m=\u001b[39minputs,\n\u001b[0;32m    486\u001b[0m     )\n\u001b[1;32m--> 487\u001b[0m torch\u001b[39m.\u001b[39mautograd\u001b[39m.\u001b[39mbackward(\n\u001b[0;32m    488\u001b[0m     \u001b[39mself\u001b[39m, gradient, retain_graph, create_graph, inputs\u001b[39m=\u001b[39minputs\n\u001b[0;32m    489\u001b[0m )\n",
      "File \u001b[1;32mc:\\Users\\aglor\\anaconda3\\envs\\ML\\Lib\\site-packages\\torch\\autograd\\__init__.py:200\u001b[0m, in \u001b[0;36mbackward\u001b[1;34m(tensors, grad_tensors, retain_graph, create_graph, grad_variables, inputs)\u001b[0m\n\u001b[0;32m    195\u001b[0m     retain_graph \u001b[39m=\u001b[39m create_graph\n\u001b[0;32m    197\u001b[0m \u001b[39m# The reason we repeat same the comment below is that\u001b[39;00m\n\u001b[0;32m    198\u001b[0m \u001b[39m# some Python versions print out the first line of a multi-line function\u001b[39;00m\n\u001b[0;32m    199\u001b[0m \u001b[39m# calls in the traceback and some print out the last line\u001b[39;00m\n\u001b[1;32m--> 200\u001b[0m Variable\u001b[39m.\u001b[39m_execution_engine\u001b[39m.\u001b[39mrun_backward(  \u001b[39m# Calls into the C++ engine to run the backward pass\u001b[39;00m\n\u001b[0;32m    201\u001b[0m     tensors, grad_tensors_, retain_graph, create_graph, inputs,\n\u001b[0;32m    202\u001b[0m     allow_unreachable\u001b[39m=\u001b[39m\u001b[39mTrue\u001b[39;00m, accumulate_grad\u001b[39m=\u001b[39m\u001b[39mTrue\u001b[39;00m)\n",
      "\u001b[1;31mKeyboardInterrupt\u001b[0m: "
     ]
    }
   ],
   "source": [
    "# Define callbacks\n",
    "def epoch_logger(epoch, model, weighted_losses, **kw):\n",
    "    if epoch % 1000 != 0:\n",
    "        return\n",
    "    print(\n",
    "        \"Epoch %d: Physics Loss %.4g, Node3YVel Loss %.4g, Node4YVel Loss %.4g, E = %.4g\"\n",
    "        % (epoch, weighted_losses[0], weighted_losses[1], weighted_losses[2], model.E())\n",
    "    )\n",
    "\n",
    "\n",
    "if not os.path.exists(\"plots\"):\n",
    "    os.mkdir(\"plots\")\n",
    "\n",
    "\n",
    "def plotter(epoch, model, data_t, u_pred_t, **kw):\n",
    "    if epoch % plot_every != 0:\n",
    "        return\n",
    "    E = model.E()\n",
    "    t = data_t.detach().cpu()\n",
    "    v_pred = u_pred_t.detach().cpu()\n",
    "\n",
    "    fig, ax = plt.subplots(4, 1, figsize=(6, 12), sharex=True)\n",
    "    for dim in range(len(ax)):\n",
    "        axes = ax[dim]\n",
    "\n",
    "        axes.plot(t, v_pred[:, dim], label=\"Prediction\")\n",
    "\n",
    "        if dim == 1:\n",
    "            axes.plot(\n",
    "                t,\n",
    "                model.node3_vel_y.detach().cpu(),\n",
    "                marker=\".\",\n",
    "                markersize=3,\n",
    "                linestyle=\"None\",\n",
    "                label=\"Data\",\n",
    "            )\n",
    "        elif dim == 3:\n",
    "            axes.plot(\n",
    "                t,\n",
    "                model.node4_vel_y.detach().cpu(),\n",
    "                marker=\".\",\n",
    "                markersize=3,\n",
    "                linestyle=\"None\",\n",
    "                label=\"Data\",\n",
    "            )\n",
    "    fig.suptitle(\"Epoch = %d\\nE = %.5g\" % (epoch, E * 1e8))\n",
    "    plt.savefig(os.path.join(\"plots\", \"%d.png\" % epoch))\n",
    "    plt.close()\n",
    "\n",
    "\n",
    "# Define model\n",
    "layers = [1] + 3 * [64] + [4]\n",
    "sigmas = [1, 10, 50]\n",
    "model = PINN(layers, sigmas)\n",
    "model.load_ops_data()\n",
    "model.compile(\n",
    "    torch.optim.Adam(list(model.parameters()) + [model.a], lr=1e-4),\n",
    "    callbacks=[epoch_logger, plotter],\n",
    "    loss_weights=[1e-10, 1, 1],\n",
    ")\n",
    "model.train(iterations=int(2e6))"
   ]
  },
  {
   "cell_type": "code",
   "execution_count": null,
   "metadata": {},
   "outputs": [],
   "source": []
  }
 ],
 "metadata": {
  "kernelspec": {
   "display_name": "pinn",
   "language": "python",
   "name": "python3"
  },
  "language_info": {
   "codemirror_mode": {
    "name": "ipython",
    "version": 3
   },
   "file_extension": ".py",
   "mimetype": "text/x-python",
   "name": "python",
   "nbconvert_exporter": "python",
   "pygments_lexer": "ipython3",
   "version": "3.11.3"
  },
  "orig_nbformat": 4
 },
 "nbformat": 4,
 "nbformat_minor": 2
}
