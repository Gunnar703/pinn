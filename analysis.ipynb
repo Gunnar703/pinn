{
 "cells": [
  {
   "cell_type": "code",
   "execution_count": null,
   "metadata": {},
   "outputs": [],
   "source": [
    "import matplotlib.pyplot as plt\n",
    "import deepxde as dde\n",
    "import numpy as np\n",
    "import torch\n",
    "\n",
    "from modules.data import disc_to_cont, data_obj as data\n",
    "\n",
    "device = \"cuda\""
   ]
  },
  {
   "cell_type": "code",
   "execution_count": null,
   "metadata": {},
   "outputs": [],
   "source": [
    "geom = dde.geometry.TimeDomain(data.t[0], data.t[-1])\n",
    "\n",
    "M = torch.Tensor(data.M).to(device)\n",
    "C = torch.Tensor(data.M).to(device)\n",
    "K = torch.Tensor(data.M).to(device)\n",
    "\n",
    "def PDE(x, y, v):\n",
    "    \"\"\"Defines the governing PDE.\n",
    "\n",
    "    Args:\n",
    "        x (torch.Tensor): input function evaluation points\n",
    "        v (torch.Tensor): input function\n",
    "        y (torch.Tensor): output function\n",
    "    \"\"\"\n",
    "\n",
    "    N = y.shape[1]\n",
    "\n",
    "    u1 = \n",
    "    u3 = y[:, :N//2]\n",
    "    u4 = y[:, N//2:]\n"
   ]
  }
 ],
 "metadata": {
  "kernelspec": {
   "display_name": "ML",
   "language": "python",
   "name": "python3"
  },
  "language_info": {
   "codemirror_mode": {
    "name": "ipython",
    "version": 3
   },
   "file_extension": ".py",
   "mimetype": "text/x-python",
   "name": "python",
   "nbconvert_exporter": "python",
   "pygments_lexer": "ipython3",
   "version": "3.11.3"
  },
  "orig_nbformat": 4
 },
 "nbformat": 4,
 "nbformat_minor": 2
}
