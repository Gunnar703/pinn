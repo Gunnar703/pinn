{
 "cells": [
  {
   "cell_type": "code",
   "execution_count": 1,
   "metadata": {},
   "outputs": [],
   "source": [
    "import os\n",
    "import torch\n",
    "import numpy as np\n",
    "import matplotlib.pyplot as plt\n",
    "from dataset import dataloader\n",
    "from model import CNNPINN\n",
    "\n",
    "# torch.autograd.set_detect_anomaly(True)\n",
    "\n",
    "if torch.cuda.is_available():\n",
    "    device = \"cuda\""
   ]
  },
  {
   "cell_type": "code",
   "execution_count": null,
   "metadata": {},
   "outputs": [],
   "source": [
    "# Display image and label.\n",
    "train_features, train_labels = next(iter(dataloader))\n",
    "print(f\"Feature batch shape: {train_features.size()}\")\n",
    "print(f\"Labels batch shape: {train_labels.size()}\")\n",
    "img = train_features[0].squeeze()\n",
    "label = train_labels[0]\n",
    "plt.imshow(img.cpu(), interpolation='None')\n",
    "plt.axis('auto')\n",
    "plt.title(\"E = %.5f\" % label)\n"
   ]
  },
  {
   "cell_type": "code",
   "execution_count": null,
   "metadata": {},
   "outputs": [],
   "source": [
    "batch_size = train_features.size()[0]\n",
    "\n",
    "model = CNNPINN()\n",
    "model.compile(\n",
    "    optimizer=torch.optim.Adam(model.parameters(), lr=1e-3), dataloader=dataloader\n",
    ")\n",
    "model.train(1000)"
   ]
  },
  {
   "cell_type": "code",
   "execution_count": null,
   "metadata": {},
   "outputs": [],
   "source": [
    "# Display image and label.\n",
    "train_features, train_labels = next(iter(dataloader))\n",
    "idx = np.random.randint(0, len(train_features))\n",
    "label = train_labels[idx]\n",
    "plt.imshow(img.cpu(), interpolation='None')\n",
    "plt.axis('auto')\n",
    "plt.title(\"E (label) = %.5f\\nE (pred) = %.5f\" % (label, model(train_features[idx].unsqueeze(0))));\n"
   ]
  }
 ],
 "metadata": {
  "kernelspec": {
   "display_name": "pinn",
   "language": "python",
   "name": "python3"
  },
  "language_info": {
   "codemirror_mode": {
    "name": "ipython",
    "version": 3
   },
   "file_extension": ".py",
   "mimetype": "text/x-python",
   "name": "python",
   "nbconvert_exporter": "python",
   "pygments_lexer": "ipython3",
   "version": "3.11.3"
  },
  "orig_nbformat": 4
 },
 "nbformat": 4,
 "nbformat_minor": 2
}
