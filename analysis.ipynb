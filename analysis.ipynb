{
 "cells": [
  {
   "cell_type": "code",
   "execution_count": 1,
   "metadata": {},
   "outputs": [],
   "source": [
    "import torch\n",
    "import numpy as np\n",
    "import matplotlib.pyplot as plt\n",
    "from model import PINN\n",
    "import os\n",
    "import argparse\n",
    "\n",
    "parser = argparse.ArgumentParser()\n",
    "parser.add_argument(\"--plot-every\")\n",
    "args = parser.parse_args()\n",
    "plot_every = args.plot_every"
   ]
  },
  {
   "cell_type": "code",
   "execution_count": 2,
   "metadata": {},
   "outputs": [
    {
     "name": "stdout",
     "output_type": "stream",
     "text": [
      "Epoch 0: Physics Loss 0, Node3YVel Loss 1244, Node4YVel Loss 487.5, E = 0.256\n",
      "Epoch 1000: Physics Loss 0, Node3YVel Loss 39.34, Node4YVel Loss 89.33, E = 0.256\n",
      "Epoch 2000: Physics Loss 0, Node3YVel Loss 19.32, Node4YVel Loss 81.89, E = 0.256\n",
      "Epoch 3000: Physics Loss 0, Node3YVel Loss 17.24, Node4YVel Loss 76.89, E = 0.256\n",
      "Epoch 4000: Physics Loss 0, Node3YVel Loss 15.61, Node4YVel Loss 72.91, E = 0.256\n",
      "Epoch 5000: Physics Loss 0, Node3YVel Loss 14.15, Node4YVel Loss 69.4, E = 0.256\n",
      "Epoch 6000: Physics Loss 0, Node3YVel Loss 13.04, Node4YVel Loss 66.09, E = 0.256\n",
      "Epoch 7000: Physics Loss 0, Node3YVel Loss 12.25, Node4YVel Loss 62.9, E = 0.256\n",
      "Epoch 8000: Physics Loss 0, Node3YVel Loss 11.65, Node4YVel Loss 59.74, E = 0.256\n",
      "Epoch 9000: Physics Loss 0, Node3YVel Loss 11.08, Node4YVel Loss 56.66, E = 0.256\n",
      "Epoch 10000: Physics Loss 0, Node3YVel Loss 10.51, Node4YVel Loss 53.76, E = 0.256\n",
      "Epoch 11000: Physics Loss 0, Node3YVel Loss 9.938, Node4YVel Loss 51.17, E = 0.256\n",
      "Epoch 12000: Physics Loss 0, Node3YVel Loss 9.426, Node4YVel Loss 48.91, E = 0.256\n",
      "Epoch 13000: Physics Loss 0, Node3YVel Loss 8.999, Node4YVel Loss 46.95, E = 0.256\n"
     ]
    },
    {
     "ename": "KeyboardInterrupt",
     "evalue": "",
     "output_type": "error",
     "traceback": [
      "\u001b[1;31m---------------------------------------------------------------------------\u001b[0m",
      "\u001b[1;31mKeyboardInterrupt\u001b[0m                         Traceback (most recent call last)",
      "Cell \u001b[1;32mIn[2], line 60\u001b[0m\n\u001b[0;32m     54\u001b[0m model\u001b[39m.\u001b[39mload_ops_data()\n\u001b[0;32m     55\u001b[0m model\u001b[39m.\u001b[39mcompile(\n\u001b[0;32m     56\u001b[0m     torch\u001b[39m.\u001b[39moptim\u001b[39m.\u001b[39mAdam(\u001b[39mlist\u001b[39m(model\u001b[39m.\u001b[39mparameters()) \u001b[39m+\u001b[39m [model\u001b[39m.\u001b[39ma], lr\u001b[39m=\u001b[39m\u001b[39m1e-4\u001b[39m),\n\u001b[0;32m     57\u001b[0m     callbacks\u001b[39m=\u001b[39m[epoch_logger, plotter],\n\u001b[0;32m     58\u001b[0m     loss_weights\u001b[39m=\u001b[39m[\u001b[39m0\u001b[39m, \u001b[39m1e2\u001b[39m, \u001b[39m1e2\u001b[39m],\n\u001b[0;32m     59\u001b[0m )\n\u001b[1;32m---> 60\u001b[0m model\u001b[39m.\u001b[39mtrain()\n",
      "File \u001b[1;32mc:\\Projects\\pinn\\model.py:240\u001b[0m, in \u001b[0;36mPINN.train\u001b[1;34m(self, iterations)\u001b[0m\n\u001b[0;32m    230\u001b[0m     du_dt_current_data \u001b[39m=\u001b[39m torch\u001b[39m.\u001b[39mautograd\u001b[39m.\u001b[39mgrad(\n\u001b[0;32m    231\u001b[0m         u_current_data,\n\u001b[0;32m    232\u001b[0m         data_t,\n\u001b[1;32m   (...)\u001b[0m\n\u001b[0;32m    235\u001b[0m         create_graph\u001b[39m=\u001b[39m\u001b[39mTrue\u001b[39;00m,\n\u001b[0;32m    236\u001b[0m     )[\u001b[39m0\u001b[39m]\u001b[39m.\u001b[39mto(\u001b[39mself\u001b[39m\u001b[39m.\u001b[39mdevice)\n\u001b[0;32m    238\u001b[0m     u_pred_t[:, dim] \u001b[39m=\u001b[39m du_dt_current_data\u001b[39m.\u001b[39msqueeze()\n\u001b[1;32m--> 240\u001b[0m physics_loss \u001b[39m=\u001b[39m \u001b[39mself\u001b[39m\u001b[39m.\u001b[39mphysics_loss(phys_t, u_pred_phys)\n\u001b[0;32m    241\u001b[0m data_loss1 \u001b[39m=\u001b[39m \u001b[39mself\u001b[39m\u001b[39m.\u001b[39mdata_loss(u_pred_t[:, \u001b[39m1\u001b[39m]\u001b[39m.\u001b[39msqueeze(), \u001b[39mself\u001b[39m\u001b[39m.\u001b[39mnode3_vel_y)\n\u001b[0;32m    242\u001b[0m data_loss2 \u001b[39m=\u001b[39m \u001b[39mself\u001b[39m\u001b[39m.\u001b[39mdata_loss(u_pred_t[:, \u001b[39m3\u001b[39m]\u001b[39m.\u001b[39msqueeze(), \u001b[39mself\u001b[39m\u001b[39m.\u001b[39mnode4_vel_y)\n",
      "File \u001b[1;32mc:\\Projects\\pinn\\model.py:176\u001b[0m, in \u001b[0;36mPINN.physics_loss\u001b[1;34m(self, x, y)\u001b[0m\n\u001b[0;32m    167\u001b[0m du_dt_current \u001b[39m=\u001b[39m torch\u001b[39m.\u001b[39mautograd\u001b[39m.\u001b[39mgrad(\n\u001b[0;32m    168\u001b[0m     u_current,\n\u001b[0;32m    169\u001b[0m     x,\n\u001b[1;32m   (...)\u001b[0m\n\u001b[0;32m    172\u001b[0m     create_graph\u001b[39m=\u001b[39m\u001b[39mTrue\u001b[39;00m,\n\u001b[0;32m    173\u001b[0m )[\u001b[39m0\u001b[39m]\u001b[39m.\u001b[39mto(\u001b[39mself\u001b[39m\u001b[39m.\u001b[39mdevice)\n\u001b[0;32m    175\u001b[0m \u001b[39m# d^2u/dt^2 for all times at the current node\u001b[39;00m\n\u001b[1;32m--> 176\u001b[0m d2u_dt2_current \u001b[39m=\u001b[39m torch\u001b[39m.\u001b[39mautograd\u001b[39m.\u001b[39mgrad(\n\u001b[0;32m    177\u001b[0m     du_dt_current,\n\u001b[0;32m    178\u001b[0m     x,\n\u001b[0;32m    179\u001b[0m     grad_outputs\u001b[39m=\u001b[39mtorch\u001b[39m.\u001b[39mones_like(du_dt_current),\n\u001b[0;32m    180\u001b[0m     retain_graph\u001b[39m=\u001b[39m\u001b[39mTrue\u001b[39;00m,\n\u001b[0;32m    181\u001b[0m     create_graph\u001b[39m=\u001b[39m\u001b[39mTrue\u001b[39;00m,\n\u001b[0;32m    182\u001b[0m )[\u001b[39m0\u001b[39m]\u001b[39m.\u001b[39mto(\u001b[39mself\u001b[39m\u001b[39m.\u001b[39mdevice)\n\u001b[0;32m    184\u001b[0m y_t[:, dim] \u001b[39m=\u001b[39m du_dt_current\u001b[39m.\u001b[39msqueeze()\n\u001b[0;32m    185\u001b[0m y_tt[:, dim] \u001b[39m=\u001b[39m d2u_dt2_current\u001b[39m.\u001b[39msqueeze()\n",
      "File \u001b[1;32mc:\\Users\\aglor\\anaconda3\\envs\\ML\\Lib\\site-packages\\torch\\autograd\\__init__.py:303\u001b[0m, in \u001b[0;36mgrad\u001b[1;34m(outputs, inputs, grad_outputs, retain_graph, create_graph, only_inputs, allow_unused, is_grads_batched)\u001b[0m\n\u001b[0;32m    301\u001b[0m     \u001b[39mreturn\u001b[39;00m _vmap_internals\u001b[39m.\u001b[39m_vmap(vjp, \u001b[39m0\u001b[39m, \u001b[39m0\u001b[39m, allow_none_pass_through\u001b[39m=\u001b[39m\u001b[39mTrue\u001b[39;00m)(grad_outputs_)\n\u001b[0;32m    302\u001b[0m \u001b[39melse\u001b[39;00m:\n\u001b[1;32m--> 303\u001b[0m     \u001b[39mreturn\u001b[39;00m Variable\u001b[39m.\u001b[39m_execution_engine\u001b[39m.\u001b[39mrun_backward(  \u001b[39m# Calls into the C++ engine to run the backward pass\u001b[39;00m\n\u001b[0;32m    304\u001b[0m         t_outputs, grad_outputs_, retain_graph, create_graph, t_inputs,\n\u001b[0;32m    305\u001b[0m         allow_unused, accumulate_grad\u001b[39m=\u001b[39m\u001b[39mFalse\u001b[39;00m)\n",
      "\u001b[1;31mKeyboardInterrupt\u001b[0m: "
     ]
    }
   ],
   "source": [
    "# Define callbacks\n",
    "def epoch_logger(epoch, model, physics_loss, data_loss, **kw):\n",
    "    if epoch % 1000 != 0:\n",
    "        return\n",
    "    print(\n",
    "        \"Epoch %d: Physics Loss %.4g, Node3YVel Loss %.4g, Node4YVel Loss %.4g, E = %.4g\"\n",
    "        % (epoch, physics_loss, data_loss[0], data_loss[1], model.E())\n",
    "    )\n",
    "\n",
    "if not os.path.exists(\"plots\"):\n",
    "    os.mkdir(\"plots\")\n",
    "\n",
    "def plotter(epoch, model, data_t, u_pred_t, **kw):\n",
    "    if epoch % plot_every != 0:\n",
    "        return\n",
    "    E = model.E()\n",
    "    t = data_t.detach().cpu()\n",
    "    v_pred = u_pred_t.detach().cpu()\n",
    "\n",
    "    fig, ax = plt.subplots(4, 1, figsize=(6, 12), sharex=True)\n",
    "    for dim in range(len(ax)):\n",
    "        axes = ax[dim]\n",
    "\n",
    "        axes.plot(t, v_pred[:, dim], label=\"Prediction\")\n",
    "\n",
    "        if dim == 1:\n",
    "            axes.plot(\n",
    "                t,\n",
    "                model.node3_vel_y.detach().cpu(),\n",
    "                marker=\".\",\n",
    "                markersize=3,\n",
    "                linestyle=\"None\",\n",
    "                label=\"Data\",\n",
    "            )\n",
    "        elif dim == 3:\n",
    "            axes.plot(\n",
    "                t,\n",
    "                model.node4_vel_y.detach().cpu(),\n",
    "                marker=\".\",\n",
    "                markersize=3,\n",
    "                linestyle=\"None\",\n",
    "                label=\"Data\",\n",
    "            )\n",
    "    fig.suptitle(\"Epoch = %d\\nE = %.5g\" % (epoch, E * 1e8))\n",
    "    plt.savefig(\n",
    "        os.path.join(\"plots\", \"%d.png\" % epoch)\n",
    "    )\n",
    "    plt.close()\n",
    "\n",
    "\n",
    "# Define model\n",
    "layers = [1] + 3 * [32] + [4]\n",
    "sigmas = [1, 10, 50]\n",
    "model = PINN(layers, sigmas)\n",
    "model.load_ops_data()\n",
    "model.compile(\n",
    "    torch.optim.Adam(list(model.parameters()) + [model.a], lr=1e-3),\n",
    "    callbacks=[epoch_logger, plotter],\n",
    "    loss_weights=[1e-12, 1e2, 1e2],\n",
    ")\n",
    "model.train()"
   ]
  },
  {
   "cell_type": "code",
   "execution_count": null,
   "metadata": {},
   "outputs": [],
   "source": []
  }
 ],
 "metadata": {
  "kernelspec": {
   "display_name": "pinn",
   "language": "python",
   "name": "python3"
  },
  "language_info": {
   "codemirror_mode": {
    "name": "ipython",
    "version": 3
   },
   "file_extension": ".py",
   "mimetype": "text/x-python",
   "name": "python",
   "nbconvert_exporter": "python",
   "pygments_lexer": "ipython3",
   "version": "3.11.3"
  },
  "orig_nbformat": 4
 },
 "nbformat": 4,
 "nbformat_minor": 2
}
