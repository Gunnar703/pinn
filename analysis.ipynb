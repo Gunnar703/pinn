{
 "cells": [
  {
   "cell_type": "code",
   "execution_count": 1,
   "metadata": {},
   "outputs": [
    {
     "data": {
      "text/plain": [
       "[<matplotlib.lines.Line2D at 0x2198428f4f0>]"
      ]
     },
     "execution_count": 1,
     "metadata": {},
     "output_type": "execute_result"
    },
    {
     "ename": "",
     "evalue": "",
     "output_type": "error",
     "traceback": [
      "\u001b[1;31mCannot execute code, session has been disposed. Please try restarting the Kernel."
     ]
    },
    {
     "ename": "",
     "evalue": "",
     "output_type": "error",
     "traceback": [
      "\u001b[1;31mThe Kernel crashed while executing code in the the current cell or a previous cell. Please review the code in the cell(s) to identify a possible cause of the failure. Click <a href='https://aka.ms/vscodeJupyterKernelCrash'>here</a> for more info. View Jupyter <a href='command:jupyter.viewOutput'>log</a> for further details."
     ]
    }
   ],
   "source": [
    "import torch\n",
    "import numpy as np\n",
    "import matplotlib.pyplot as plt\n",
    "from model import PINN"
   ]
  },
  {
   "cell_type": "code",
   "execution_count": null,
   "metadata": {},
   "outputs": [
    {
     "name": "stdout",
     "output_type": "stream",
     "text": [
      "True\n",
      "Epoch 0: Physics Loss 9.822e+04, Node3YVel Loss 48.06, Node4YVel Loss 21.87, E = 0.3733\n"
     ]
    },
    {
     "ename": "KeyboardInterrupt",
     "evalue": "",
     "output_type": "error",
     "traceback": [
      "\u001b[1;31m---------------------------------------------------------------------------\u001b[0m",
      "\u001b[1;31mKeyboardInterrupt\u001b[0m                         Traceback (most recent call last)",
      "Cell \u001b[1;32mIn[3], line 21\u001b[0m\n\u001b[0;32m     15\u001b[0m model\u001b[39m.\u001b[39mload_ops_data()\n\u001b[0;32m     16\u001b[0m model\u001b[39m.\u001b[39mcompile(\n\u001b[0;32m     17\u001b[0m     torch\u001b[39m.\u001b[39moptim\u001b[39m.\u001b[39mAdam(\u001b[39mlist\u001b[39m(model\u001b[39m.\u001b[39mparameters()) \u001b[39m+\u001b[39m [model\u001b[39m.\u001b[39ma], lr\u001b[39m=\u001b[39m\u001b[39m1e-4\u001b[39m),\n\u001b[0;32m     18\u001b[0m     callbacks\u001b[39m=\u001b[39m[epoch_logger],\n\u001b[0;32m     19\u001b[0m     loss_weights\u001b[39m=\u001b[39m[\u001b[39m1e-10\u001b[39m, \u001b[39m1\u001b[39m, \u001b[39m1\u001b[39m],\n\u001b[0;32m     20\u001b[0m )\n\u001b[1;32m---> 21\u001b[0m model\u001b[39m.\u001b[39;49mtrain()\n",
      "File \u001b[1;32mc:\\Projects\\pinn\\model.py:251\u001b[0m, in \u001b[0;36mPINN.train\u001b[1;34m(self, iterations)\u001b[0m\n\u001b[0;32m    244\u001b[0m data_loss2 \u001b[39m=\u001b[39m \u001b[39mself\u001b[39m\u001b[39m.\u001b[39mdata_loss(u_pred_t[:, \u001b[39m3\u001b[39m]\u001b[39m.\u001b[39msqueeze(), \u001b[39mself\u001b[39m\u001b[39m.\u001b[39mnode4_vel_y)\n\u001b[0;32m    246\u001b[0m loss \u001b[39m=\u001b[39m (\n\u001b[0;32m    247\u001b[0m     \u001b[39mself\u001b[39m\u001b[39m.\u001b[39mloss_weights[\u001b[39m0\u001b[39m] \u001b[39m*\u001b[39m physics_loss\n\u001b[0;32m    248\u001b[0m     \u001b[39m+\u001b[39m \u001b[39mself\u001b[39m\u001b[39m.\u001b[39mloss_weights[\u001b[39m1\u001b[39m] \u001b[39m*\u001b[39m data_loss1\n\u001b[0;32m    249\u001b[0m     \u001b[39m+\u001b[39m \u001b[39mself\u001b[39m\u001b[39m.\u001b[39mloss_weights[\u001b[39m2\u001b[39m] \u001b[39m*\u001b[39m data_loss2\n\u001b[0;32m    250\u001b[0m )\n\u001b[1;32m--> 251\u001b[0m loss\u001b[39m.\u001b[39;49mbackward()\n\u001b[0;32m    253\u001b[0m \u001b[39mfor\u001b[39;00m callback \u001b[39min\u001b[39;00m \u001b[39mself\u001b[39m\u001b[39m.\u001b[39mcallbacks:\n\u001b[0;32m    254\u001b[0m     callback(\n\u001b[0;32m    255\u001b[0m         model\u001b[39m=\u001b[39m\u001b[39mself\u001b[39m,\n\u001b[0;32m    256\u001b[0m         epoch\u001b[39m=\u001b[39mepoch,\n\u001b[1;32m   (...)\u001b[0m\n\u001b[0;32m    264\u001b[0m         data_t\u001b[39m=\u001b[39mdata_t,\n\u001b[0;32m    265\u001b[0m     )\n",
      "File \u001b[1;32mc:\\Users\\aglor\\anaconda3\\envs\\pinn\\lib\\site-packages\\torch\\_tensor.py:487\u001b[0m, in \u001b[0;36mTensor.backward\u001b[1;34m(self, gradient, retain_graph, create_graph, inputs)\u001b[0m\n\u001b[0;32m    477\u001b[0m \u001b[39mif\u001b[39;00m has_torch_function_unary(\u001b[39mself\u001b[39m):\n\u001b[0;32m    478\u001b[0m     \u001b[39mreturn\u001b[39;00m handle_torch_function(\n\u001b[0;32m    479\u001b[0m         Tensor\u001b[39m.\u001b[39mbackward,\n\u001b[0;32m    480\u001b[0m         (\u001b[39mself\u001b[39m,),\n\u001b[1;32m   (...)\u001b[0m\n\u001b[0;32m    485\u001b[0m         inputs\u001b[39m=\u001b[39minputs,\n\u001b[0;32m    486\u001b[0m     )\n\u001b[1;32m--> 487\u001b[0m torch\u001b[39m.\u001b[39;49mautograd\u001b[39m.\u001b[39;49mbackward(\n\u001b[0;32m    488\u001b[0m     \u001b[39mself\u001b[39;49m, gradient, retain_graph, create_graph, inputs\u001b[39m=\u001b[39;49minputs\n\u001b[0;32m    489\u001b[0m )\n",
      "File \u001b[1;32mc:\\Users\\aglor\\anaconda3\\envs\\pinn\\lib\\site-packages\\torch\\autograd\\__init__.py:200\u001b[0m, in \u001b[0;36mbackward\u001b[1;34m(tensors, grad_tensors, retain_graph, create_graph, grad_variables, inputs)\u001b[0m\n\u001b[0;32m    195\u001b[0m     retain_graph \u001b[39m=\u001b[39m create_graph\n\u001b[0;32m    197\u001b[0m \u001b[39m# The reason we repeat same the comment below is that\u001b[39;00m\n\u001b[0;32m    198\u001b[0m \u001b[39m# some Python versions print out the first line of a multi-line function\u001b[39;00m\n\u001b[0;32m    199\u001b[0m \u001b[39m# calls in the traceback and some print out the last line\u001b[39;00m\n\u001b[1;32m--> 200\u001b[0m Variable\u001b[39m.\u001b[39;49m_execution_engine\u001b[39m.\u001b[39;49mrun_backward(  \u001b[39m# Calls into the C++ engine to run the backward pass\u001b[39;49;00m\n\u001b[0;32m    201\u001b[0m     tensors, grad_tensors_, retain_graph, create_graph, inputs,\n\u001b[0;32m    202\u001b[0m     allow_unreachable\u001b[39m=\u001b[39;49m\u001b[39mTrue\u001b[39;49;00m, accumulate_grad\u001b[39m=\u001b[39;49m\u001b[39mTrue\u001b[39;49;00m)\n",
      "\u001b[1;31mKeyboardInterrupt\u001b[0m: "
     ]
    }
   ],
   "source": [
    "# Define callbacks\n",
    "def epoch_logger(epoch, model, physics_loss, data_loss, **kw):\n",
    "    if epoch % 1000 != 0:\n",
    "        return\n",
    "    print(\n",
    "        \"Epoch %d: Physics Loss %.4g, Node3YVel Loss %.4g, Node4YVel Loss %.4g, E = %.4g\"\n",
    "        % (epoch, physics_loss, data_loss[0], data_loss[1], model.E())\n",
    "    )\n",
    "\n",
    "\n",
    "# Define model\n",
    "layers = [1] + 2 * [16] + [4]\n",
    "sigmas = [1, 20, 50]\n",
    "model = PINN(layers, sigmas)\n",
    "model.load_ops_data()\n",
    "model.compile(\n",
    "    torch.optim.Adam(list(model.parameters()) + [model.a], lr=1e-4),\n",
    "    callbacks=[epoch_logger],\n",
    "    loss_weights=[1e-10, 1, 1],\n",
    ")\n",
    "model.train()"
   ]
  },
  {
   "cell_type": "code",
   "execution_count": null,
   "metadata": {},
   "outputs": [],
   "source": []
  }
 ],
 "metadata": {
  "kernelspec": {
   "display_name": "pinn",
   "language": "python",
   "name": "python3"
  },
  "language_info": {
   "codemirror_mode": {
    "name": "ipython",
    "version": 3
   },
   "file_extension": ".py",
   "mimetype": "text/x-python",
   "name": "python",
   "nbconvert_exporter": "python",
   "pygments_lexer": "ipython3",
   "version": "3.10.11"
  },
  "orig_nbformat": 4
 },
 "nbformat": 4,
 "nbformat_minor": 2
}
